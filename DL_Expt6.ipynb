{
  "nbformat": 4,
  "nbformat_minor": 0,
  "metadata": {
    "colab": {
      "provenance": []
    },
    "kernelspec": {
      "name": "python3",
      "display_name": "Python 3"
    },
    "language_info": {
      "name": "python"
    }
  },
  "cells": [
    {
      "cell_type": "code",
      "execution_count": 1,
      "metadata": {
        "id": "YZoZfmgUVMe_"
      },
      "outputs": [],
      "source": [
        "import tensorflow as tf"
      ]
    },
    {
      "cell_type": "code",
      "source": [
        "from tensorflow.keras import layers, models"
      ],
      "metadata": {
        "id": "uIMR2oMTWCt7"
      },
      "execution_count": 3,
      "outputs": []
    },
    {
      "cell_type": "code",
      "source": [
        "from tensorflow.keras.datasets import mnist\n",
        "\n",
        "# Load and preprocess the MNIST dataset\n",
        "(train_images, train_labels), (test_images, test_labels) = mnist.load_data()\n",
        "train_images = train_images.reshape((60000, 28, 28, 1))\n",
        "test_images = test_images.reshape((10000, 28, 28, 1))\n",
        "train_images, test_images = train_images / 255.0, test_images / 255.0\n",
        "\n",
        "# Create a CNN model\n",
        "model = models.Sequential()\n",
        "model.add(layers.Conv2D(32, (3, 3), activation='relu', input_shape=(28, 28, 1)))\n",
        "model.add(layers.MaxPooling2D((2, 2)))\n",
        "model.add(layers.Conv2D(64, (3, 3), activation='relu'))\n",
        "model.add(layers.MaxPooling2D((2, 2)))\n",
        "model.add(layers.Conv2D(64, (3, 3), activation='relu'))\n",
        "model.add(layers.Flatten())\n",
        "model.add(layers.Dense(64, activation='relu'))\n",
        "model.add(layers.Dense(10, activation='softmax'))\n",
        "\n",
        "# Compile the model\n",
        "model.compile(optimizer='adam',\n",
        "              loss='sparse_categorical_crossentropy',\n",
        "              metrics=['accuracy'])\n",
        "\n",
        "# Train the model\n",
        "model.fit(train_images, train_labels, epochs=5, validation_data=(test_images, test_labels))\n",
        "\n",
        "# Evaluate the model\n",
        "test_loss, test_acc = model.evaluate(test_images, test_labels)\n",
        "print(f'Test accuracy: {test_acc}')\n"
      ],
      "metadata": {
        "colab": {
          "base_uri": "https://localhost:8080/"
        },
        "id": "ldVoX8fhWV0p",
        "outputId": "614e3854-9c78-4edd-901b-7ad32918304a"
      },
      "execution_count": 5,
      "outputs": [
        {
          "output_type": "stream",
          "name": "stdout",
          "text": [
            "Downloading data from https://storage.googleapis.com/tensorflow/tf-keras-datasets/mnist.npz\n",
            "11490434/11490434 [==============================] - 0s 0us/step\n",
            "Epoch 1/5\n",
            "1875/1875 [==============================] - 67s 35ms/step - loss: 0.1439 - accuracy: 0.9559 - val_loss: 0.0599 - val_accuracy: 0.9816\n",
            "Epoch 2/5\n",
            "1875/1875 [==============================] - 64s 34ms/step - loss: 0.0469 - accuracy: 0.9852 - val_loss: 0.0390 - val_accuracy: 0.9883\n",
            "Epoch 3/5\n",
            "1875/1875 [==============================] - 64s 34ms/step - loss: 0.0328 - accuracy: 0.9897 - val_loss: 0.0347 - val_accuracy: 0.9899\n",
            "Epoch 4/5\n",
            "1875/1875 [==============================] - 64s 34ms/step - loss: 0.0256 - accuracy: 0.9918 - val_loss: 0.0299 - val_accuracy: 0.9904\n",
            "Epoch 5/5\n",
            "1875/1875 [==============================] - 64s 34ms/step - loss: 0.0201 - accuracy: 0.9936 - val_loss: 0.0282 - val_accuracy: 0.9906\n",
            "313/313 [==============================] - 3s 9ms/step - loss: 0.0282 - accuracy: 0.9906\n",
            "Test accuracy: 0.9905999898910522\n"
          ]
        }
      ]
    },
    {
      "cell_type": "code",
      "source": [
        "# Assuming you've already trained the model (as in the previous code) # Make predictions on test images predictions = model.predict(test_images) # The predictions will be an array of probabilities for each class (0-9) # You can get the predicted class for each image like this: predicted_classes = [tf.argmax(prediction) for prediction in predictions] # Compare the predicted classes to the true labels correct_predictions = sum(predicted_classes[i] == test_labels[i] for i in range(len(test_labels))) accuracy = correct_predictions / len(test_labels) print(f\"Accuracy on test set: {accuracy * 100:.2f}%\")"
      ],
      "metadata": {
        "id": "GuSShsRpWeB6"
      },
      "execution_count": 12,
      "outputs": []
    },
    {
      "cell_type": "code",
      "source": [
        "import matplotlib.pyplot as plt\n",
        "import numpy as np\n",
        "\n",
        "# Assuming you've already trained the model and made predictions (as in the previous code)\n",
        "\n",
        "# Display a few test images with their predicted labels\n",
        "num_images_to_display = 5 # Choose the number of images to display\n",
        "\n",
        "for i in range(num_images_to_display):\n",
        "    plt.figure(figsize=(4, 4)) # Adjust the figure size as needed\n",
        "    plt.imshow(np.squeeze(test_images[i]), cmap='gray') # Display the test image\n",
        "    plt.title(f\"Predicted: {predicted_classes[i]}\") # Display the predicted label\n",
        "    plt.axis('off') # Turn off the axis\n",
        "    plt.show()"
      ],
      "metadata": {
        "colab": {
          "base_uri": "https://localhost:8080/",
          "height": 1000
        },
        "id": "ChjNKVNPjcHg",
        "outputId": "1d8077e9-0eda-43f3-fba7-488f835add53"
      },
      "execution_count": 13,
      "outputs": [
        {
          "output_type": "display_data",
          "data": {
            "text/plain": [
              "<Figure size 400x400 with 1 Axes>"
            ],
            "image/png": "[encoded data removed]"
          },
          "metadata": {}
        },
        {
          "output_type": "display_data",
          "data": {
            "text/plain": [
              "<Figure size 400x400 with 1 Axes>"
            ],
            "image/png": "[encoded data removed]"
          },
          "metadata": {}
        },
        {
          "output_type": "display_data",
          "data": {
            "text/plain": [
              "<Figure size 400x400 with 1 Axes>"
            ],
            "image/png": "[encoded data removed]"
          },
          "metadata": {}
        },
        {
          "output_type": "display_data",
          "data": {
            "text/plain": [
              "<Figure size 400x400 with 1 Axes>"
            ],
            "image/png": "[encoded data removed]"
          },
          "metadata": {}
        },
        {
          "output_type": "display_data",
          "data": {
            "text/plain": [
              "<Figure size 400x400 with 1 Axes>"
            ],
            "image/png": "[encoded data removed]"
          },
          "metadata": {}
        }
      ]
    }
  ]
}