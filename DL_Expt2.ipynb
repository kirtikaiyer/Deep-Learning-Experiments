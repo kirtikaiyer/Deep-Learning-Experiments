{
  "nbformat": 4,
  "nbformat_minor": 0,
  "metadata": {
    "colab": {
      "provenance": []
    },
    "kernelspec": {
      "name": "python3",
      "display_name": "Python 3"
    },
    "language_info": {
      "name": "python"
    }
  },
  "cells": [
    {
      "cell_type": "code",
      "execution_count": 112,
      "metadata": {
        "id": "78HRT88_ux1i"
      },
      "outputs": [],
      "source": [
        "#XOR Implementations|"
      ]
    },
    {
      "cell_type": "code",
      "source": [
        "#Importing all the libraries\n",
        "import numpy as np\n",
        "import tensorflow as tf\n",
        "from keras.models import Sequential\n",
        "from keras.layers import Dense"
      ],
      "metadata": {
        "id": "4GVCu80Tve5I"
      },
      "execution_count": 113,
      "outputs": []
    },
    {
      "cell_type": "code",
      "source": [
        "#Input and Output data\n",
        "X = np.array([[0, 0], [0, 1], [1, 0], [1, 1]])\n",
        "y = np.array([[0], [1], [1], [0]])"
      ],
      "metadata": {
        "id": "20OTN_DvvnBP"
      },
      "execution_count": 114,
      "outputs": []
    },
    {
      "cell_type": "code",
      "source": [
        "# Creating a sequential model\n",
        "model = Sequential()"
      ],
      "metadata": {
        "id": "AnXlZ2PQvvOw"
      },
      "execution_count": 115,
      "outputs": []
    },
    {
      "cell_type": "code",
      "source": [
        "model.add(Dense(8, input_dim=2, activation='relu'))  # Hidden layer with 8 neurons\n",
        "model.add(Dense(1, activation='sigmoid'))  # Output layer with 1 neuron"
      ],
      "metadata": {
        "id": "b2yVJ535v3Uv"
      },
      "execution_count": 116,
      "outputs": []
    },
    {
      "cell_type": "code",
      "source": [
        "# Compile the model\n",
        "model.compile(loss='binary_crossentropy', optimizer='adam', metrics=['accuracy'])"
      ],
      "metadata": {
        "id": "rkhSPKL9wa3v"
      },
      "execution_count": 117,
      "outputs": []
    },
    {
      "cell_type": "code",
      "source": [
        "# Train the model with more epochs\n",
        "model.fit(X, y, epochs=5000, batch_size=1, verbose=0)"
      ],
      "metadata": {
        "colab": {
          "base_uri": "https://localhost:8080/"
        },
        "id": "HC7SvIjpwcOg",
        "outputId": "f2611d96-12aa-4cd1-b310-29cf4a96a26b"
      },
      "execution_count": 118,
      "outputs": [
        {
          "output_type": "execute_result",
          "data": {
            "text/plain": [
              "<keras.callbacks.History at 0x7cdb4c3b5cc0>"
            ]
          },
          "metadata": {},
          "execution_count": 118
        }
      ]
    },
    {
      "cell_type": "code",
      "source": [
        "# Testing the model\n",
        "test_data = np.array([[0, 0], [0, 1], [1, 0], [1, 1]])\n",
        "predictions = model.predict(test_data)\n",
        "rounded_predictions = np.round(predictions)"
      ],
      "metadata": {
        "id": "x_YwO8mGwzaI",
        "colab": {
          "base_uri": "https://localhost:8080/"
        },
        "outputId": "fb9df25e-2860-4ddc-f677-835ce9ebec59"
      },
      "execution_count": 119,
      "outputs": [
        {
          "output_type": "stream",
          "name": "stdout",
          "text": [
            "1/1 [==============================] - 0s 72ms/step\n"
          ]
        }
      ]
    },
    {
      "cell_type": "code",
      "source": [
        "print(\"Predictions:\")\n",
        "print(rounded_predictions.flatten())"
      ],
      "metadata": {
        "id": "opFCsa46yKlv",
        "colab": {
          "base_uri": "https://localhost:8080/"
        },
        "outputId": "eea1c4b1-efe2-4d9b-df95-9b6ae589b4e6"
      },
      "execution_count": 120,
      "outputs": [
        {
          "output_type": "stream",
          "name": "stdout",
          "text": [
            "Predictions:\n",
            "[0. 1. 1. 0.]\n"
          ]
        }
      ]
    },
    {
      "cell_type": "code",
      "source": [],
      "metadata": {
        "id": "tRQ1iQzVFmmu"
      },
      "execution_count": null,
      "outputs": []
    }
  ]
}