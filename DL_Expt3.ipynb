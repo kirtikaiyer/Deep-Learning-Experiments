{
  "nbformat": 4,
  "nbformat_minor": 0,
  "metadata": {
    "colab": {
      "provenance": []
    },
    "kernelspec": {
      "name": "python3",
      "display_name": "Python 3"
    },
    "language_info": {
      "name": "python"
    }
  },
  "cells": [
    {
      "cell_type": "code",
      "execution_count": 1,
      "metadata": {
        "id": "IntD4DWdJIDw"
      },
      "outputs": [],
      "source": [
        "#Apply any of the following learning algorithms to learn the parameters of the supervised single layer feed forward neural network.\n",
        "#a. Stochastic Gradient Descent\n",
        "#b. Mini Batch Gradient Descent\n"
      ]
    },
    {
      "cell_type": "code",
      "source": [
        "#Stochastic Gradient Descent\n",
        "import numpy as np"
      ],
      "metadata": {
        "id": "tmGU6qykJ1Fq"
      },
      "execution_count": 2,
      "outputs": []
    },
    {
      "cell_type": "code",
      "source": [
        "def sigmoid(x):\n",
        "  return 1/(1+np.exp(-x))"
      ],
      "metadata": {
        "id": "NihZku5QL58_"
      },
      "execution_count": 3,
      "outputs": []
    },
    {
      "cell_type": "code",
      "source": [
        "def single_layer_neural_network(X,W,b):\n",
        "  return sigmoid(np.dot(X,W)+b)"
      ],
      "metadata": {
        "id": "ATXlgE6YMJ39"
      },
      "execution_count": 4,
      "outputs": []
    },
    {
      "cell_type": "code",
      "source": [
        "def SGD(X,y,learning_rate=0.01,epochs=100):\n",
        "  num_samples, num_features = X.shape\n",
        "  W = np.random.randn(num_features, 1)\n",
        "  b = np.random.randn()\n",
        "\n",
        "  for epoch in range(epochs):\n",
        "    for i in range(num_samples):\n",
        "      xi = X[i].reshape(-1,1)\n",
        "      yi = y[i]\n",
        "\n",
        "      z = np.dot(xi.T,W) + b\n",
        "      a = sigmoid(z)\n",
        "\n",
        "      #Calculate gradients\n",
        "      dW = xi * (a-yi)\n",
        "      db = a - yi\n",
        "\n",
        "      #Update weights and bias\n",
        "      W -= learning_rate * dW\n",
        "      b -= learning_rate * db\n",
        "\n",
        "  return W,b"
      ],
      "metadata": {
        "id": "TEqnvdmMMd2v"
      },
      "execution_count": 5,
      "outputs": []
    },
    {
      "cell_type": "code",
      "source": [
        "X_train = np.array([[0,0],[0,1],[1,0],[1,1]])\n",
        "y_train = np.array([0,1,1,0])\n",
        "W_optimal, b_optimal = SGD(X_train,y_train)"
      ],
      "metadata": {
        "id": "ksqhQTBPPOui"
      },
      "execution_count": 6,
      "outputs": []
    },
    {
      "cell_type": "code",
      "source": [
        "print(\"Optimal weights: \",W_optimal)\n",
        "print(\"Optimal bias: \",b_optimal)"
      ],
      "metadata": {
        "colab": {
          "base_uri": "https://localhost:8080/"
        },
        "id": "SBixxcFbP7xB",
        "outputId": "0977aa6a-99b6-45bf-b452-e956efde4239"
      },
      "execution_count": 7,
      "outputs": [
        {
          "output_type": "stream",
          "name": "stdout",
          "text": [
            "Optimal weights:  [[-0.08144589]\n",
            " [-0.14707741]]\n",
            "Optimal bias:  [[0.16365817]]\n"
          ]
        }
      ]
    },
    {
      "cell_type": "code",
      "source": [
        "#Mini Batch Gradient Descent\n",
        "import numpy as np"
      ],
      "metadata": {
        "id": "2jf2f4FtQOw_"
      },
      "execution_count": 8,
      "outputs": []
    },
    {
      "cell_type": "code",
      "source": [
        "#Features\n",
        "X = np.array([[0,0],[0,1],[1,0],[1,1]])\n",
        "\n",
        "#Labels\n",
        "y = np.array([0,1,1,0])\n",
        "\n",
        "#Initialize parameters\n",
        "input_size = 2\n",
        "output_size = 1\n",
        "learning_rate = 0.01\n",
        "batch_size = 4\n",
        "epochs = 100\n",
        "\n",
        "#Initialize weights and bias\n",
        "weights = np.random.rand(input_size)\n",
        "bias = np.random.rand()"
      ],
      "metadata": {
        "id": "Pux4hyseSfLx"
      },
      "execution_count": 14,
      "outputs": []
    },
    {
      "cell_type": "code",
      "source": [
        "#Mini batch gradient descent\n",
        "for epoch in range(epochs):\n",
        "  for i in range(0, len(X), batch_size):\n",
        "    X_batch = X[i:i+batch_size]\n",
        "    y_batch = y[i:i+batch_size]\n",
        "\n",
        "    #Forward pass\n",
        "    z = np.dot(X_batch, weights) + bias\n",
        "    predictions = 1/(1+np.exp(-z))\n",
        "\n",
        "    #Compute gradients\n",
        "    error = predictions - y_batch\n",
        "    gradient_weights = np.dot(X_batch.T, error)/batch_size\n",
        "    gradient_bias = np.sum(error)/batch_size\n",
        "\n",
        "    #Update weight and bias\n",
        "    weights -= learning_rate * gradient_weights\n",
        "    bias -= learning_rate * gradient_bias\n",
        "\n",
        "  if epoch % 1000 == 0:\n",
        "    loss = np.mean(-y_batch * np.log(predictions) - (1 - y_batch) * np.log(1 - predictions))\n",
        "    print(f\"Epoch {epoch}/{epochs}, Loss: {loss: .4f}\")\n",
        "\n",
        "\n",
        "print(\"Training completed\")\n",
        "print(\"Weight: \",weights)\n",
        "print(\"Bias: \",bias)"
      ],
      "metadata": {
        "colab": {
          "base_uri": "https://localhost:8080/"
        },
        "id": "zB4aSSriUADK",
        "outputId": "c9cef232-30a0-4177-cad9-91e43e8ae9d5"
      },
      "execution_count": 16,
      "outputs": [
        {
          "output_type": "stream",
          "name": "stdout",
          "text": [
            "Epoch 0/100, Loss:  0.7173\n",
            "Training completed\n",
            "Weight:  [-0.00425667 -0.07186401]\n",
            "Bias:  0.34289831193050585\n"
          ]
        }
      ]
    },
    {
      "cell_type": "code",
      "source": [],
      "metadata": {
        "id": "8IZQKMmgWz6B"
      },
      "execution_count": null,
      "outputs": []
    }
  ]
}